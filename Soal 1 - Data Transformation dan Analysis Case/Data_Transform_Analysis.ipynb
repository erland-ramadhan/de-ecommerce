{
 "cells": [
  {
   "cell_type": "code",
   "execution_count": 1,
   "id": "e38682dc-356c-466f-8929-3de014953a23",
   "metadata": {},
   "outputs": [],
   "source": [
    "import os\n",
    "import pandas as pd"
   ]
  },
  {
   "cell_type": "code",
   "execution_count": 2,
   "id": "9d90e01a-85b8-47d0-8f17-06dd06eb1df3",
   "metadata": {},
   "outputs": [],
   "source": [
    "file = os.path.join(os.getcwd(), 'ecommerce-session-bigquery.csv')"
   ]
  },
  {
   "cell_type": "code",
   "execution_count": 3,
   "id": "27eddb24-da02-43e1-9443-ac0c3678166d",
   "metadata": {},
   "outputs": [
    {
     "data": {
      "text/html": [
       "<div>\n",
       "<style scoped>\n",
       "    .dataframe tbody tr th:only-of-type {\n",
       "        vertical-align: middle;\n",
       "    }\n",
       "\n",
       "    .dataframe tbody tr th {\n",
       "        vertical-align: top;\n",
       "    }\n",
       "\n",
       "    .dataframe thead th {\n",
       "        text-align: right;\n",
       "    }\n",
       "</style>\n",
       "<table border=\"1\" class=\"dataframe\">\n",
       "  <thead>\n",
       "    <tr style=\"text-align: right;\">\n",
       "      <th></th>\n",
       "      <th>fullVisitorId</th>\n",
       "      <th>channelGrouping</th>\n",
       "      <th>time</th>\n",
       "      <th>country</th>\n",
       "      <th>city</th>\n",
       "      <th>totalTransactionRevenue</th>\n",
       "      <th>transactions</th>\n",
       "      <th>timeOnSite</th>\n",
       "      <th>pageviews</th>\n",
       "      <th>sessionQualityDim</th>\n",
       "      <th>...</th>\n",
       "      <th>itemQuantity</th>\n",
       "      <th>itemRevenue</th>\n",
       "      <th>transactionRevenue</th>\n",
       "      <th>transactionId</th>\n",
       "      <th>pageTitle</th>\n",
       "      <th>searchKeyword</th>\n",
       "      <th>pagePathLevel1</th>\n",
       "      <th>eCommerceAction_type</th>\n",
       "      <th>eCommerceAction_step</th>\n",
       "      <th>eCommerceAction_option</th>\n",
       "    </tr>\n",
       "  </thead>\n",
       "  <tbody>\n",
       "    <tr>\n",
       "      <th>0</th>\n",
       "      <td>2515546493837534633</td>\n",
       "      <td>Organic Search</td>\n",
       "      <td>966564</td>\n",
       "      <td>Taiwan</td>\n",
       "      <td>(not set)</td>\n",
       "      <td>NaN</td>\n",
       "      <td>NaN</td>\n",
       "      <td>1567.0</td>\n",
       "      <td>82.0</td>\n",
       "      <td>17.0</td>\n",
       "      <td>...</td>\n",
       "      <td>NaN</td>\n",
       "      <td>NaN</td>\n",
       "      <td>NaN</td>\n",
       "      <td>NaN</td>\n",
       "      <td>NaN</td>\n",
       "      <td>NaN</td>\n",
       "      <td>/storeitem.html</td>\n",
       "      <td>0</td>\n",
       "      <td>1</td>\n",
       "      <td>NaN</td>\n",
       "    </tr>\n",
       "    <tr>\n",
       "      <th>1</th>\n",
       "      <td>9361741997835388618</td>\n",
       "      <td>Organic Search</td>\n",
       "      <td>157377</td>\n",
       "      <td>France</td>\n",
       "      <td>not available in demo dataset</td>\n",
       "      <td>NaN</td>\n",
       "      <td>NaN</td>\n",
       "      <td>321.0</td>\n",
       "      <td>8.0</td>\n",
       "      <td>NaN</td>\n",
       "      <td>...</td>\n",
       "      <td>NaN</td>\n",
       "      <td>NaN</td>\n",
       "      <td>NaN</td>\n",
       "      <td>NaN</td>\n",
       "      <td>NaN</td>\n",
       "      <td>NaN</td>\n",
       "      <td>/storeitem.html</td>\n",
       "      <td>0</td>\n",
       "      <td>1</td>\n",
       "      <td>NaN</td>\n",
       "    </tr>\n",
       "    <tr>\n",
       "      <th>2</th>\n",
       "      <td>7313828956068851679</td>\n",
       "      <td>Referral</td>\n",
       "      <td>228279</td>\n",
       "      <td>United States</td>\n",
       "      <td>San Francisco</td>\n",
       "      <td>NaN</td>\n",
       "      <td>NaN</td>\n",
       "      <td>927.0</td>\n",
       "      <td>11.0</td>\n",
       "      <td>63.0</td>\n",
       "      <td>...</td>\n",
       "      <td>NaN</td>\n",
       "      <td>NaN</td>\n",
       "      <td>NaN</td>\n",
       "      <td>NaN</td>\n",
       "      <td>NaN</td>\n",
       "      <td>NaN</td>\n",
       "      <td>/storeitem.html</td>\n",
       "      <td>0</td>\n",
       "      <td>1</td>\n",
       "      <td>NaN</td>\n",
       "    </tr>\n",
       "    <tr>\n",
       "      <th>3</th>\n",
       "      <td>6036794406403793540</td>\n",
       "      <td>Organic Search</td>\n",
       "      <td>1615618</td>\n",
       "      <td>United States</td>\n",
       "      <td>Boulder</td>\n",
       "      <td>NaN</td>\n",
       "      <td>NaN</td>\n",
       "      <td>1616.0</td>\n",
       "      <td>13.0</td>\n",
       "      <td>38.0</td>\n",
       "      <td>...</td>\n",
       "      <td>NaN</td>\n",
       "      <td>NaN</td>\n",
       "      <td>NaN</td>\n",
       "      <td>NaN</td>\n",
       "      <td>NaN</td>\n",
       "      <td>NaN</td>\n",
       "      <td>/storeitem.html</td>\n",
       "      <td>0</td>\n",
       "      <td>1</td>\n",
       "      <td>NaN</td>\n",
       "    </tr>\n",
       "    <tr>\n",
       "      <th>4</th>\n",
       "      <td>7847280609739507227</td>\n",
       "      <td>Organic Search</td>\n",
       "      <td>37832</td>\n",
       "      <td>Canada</td>\n",
       "      <td>not available in demo dataset</td>\n",
       "      <td>NaN</td>\n",
       "      <td>NaN</td>\n",
       "      <td>1222.0</td>\n",
       "      <td>45.0</td>\n",
       "      <td>53.0</td>\n",
       "      <td>...</td>\n",
       "      <td>NaN</td>\n",
       "      <td>NaN</td>\n",
       "      <td>NaN</td>\n",
       "      <td>NaN</td>\n",
       "      <td>NaN</td>\n",
       "      <td>NaN</td>\n",
       "      <td>/storeitem.html</td>\n",
       "      <td>0</td>\n",
       "      <td>1</td>\n",
       "      <td>NaN</td>\n",
       "    </tr>\n",
       "  </tbody>\n",
       "</table>\n",
       "<p>5 rows × 32 columns</p>\n",
       "</div>"
      ],
      "text/plain": [
       "         fullVisitorId channelGrouping     time        country  \\\n",
       "0  2515546493837534633  Organic Search   966564         Taiwan   \n",
       "1  9361741997835388618  Organic Search   157377         France   \n",
       "2  7313828956068851679        Referral   228279  United States   \n",
       "3  6036794406403793540  Organic Search  1615618  United States   \n",
       "4  7847280609739507227  Organic Search    37832         Canada   \n",
       "\n",
       "                            city  totalTransactionRevenue  transactions  \\\n",
       "0                      (not set)                      NaN           NaN   \n",
       "1  not available in demo dataset                      NaN           NaN   \n",
       "2                  San Francisco                      NaN           NaN   \n",
       "3                        Boulder                      NaN           NaN   \n",
       "4  not available in demo dataset                      NaN           NaN   \n",
       "\n",
       "   timeOnSite  pageviews  sessionQualityDim  ...  itemQuantity  itemRevenue  \\\n",
       "0      1567.0       82.0               17.0  ...           NaN          NaN   \n",
       "1       321.0        8.0                NaN  ...           NaN          NaN   \n",
       "2       927.0       11.0               63.0  ...           NaN          NaN   \n",
       "3      1616.0       13.0               38.0  ...           NaN          NaN   \n",
       "4      1222.0       45.0               53.0  ...           NaN          NaN   \n",
       "\n",
       "  transactionRevenue  transactionId  pageTitle  searchKeyword  \\\n",
       "0                NaN            NaN        NaN            NaN   \n",
       "1                NaN            NaN        NaN            NaN   \n",
       "2                NaN            NaN        NaN            NaN   \n",
       "3                NaN            NaN        NaN            NaN   \n",
       "4                NaN            NaN        NaN            NaN   \n",
       "\n",
       "    pagePathLevel1 eCommerceAction_type eCommerceAction_step  \\\n",
       "0  /storeitem.html                    0                    1   \n",
       "1  /storeitem.html                    0                    1   \n",
       "2  /storeitem.html                    0                    1   \n",
       "3  /storeitem.html                    0                    1   \n",
       "4  /storeitem.html                    0                    1   \n",
       "\n",
       "  eCommerceAction_option  \n",
       "0                    NaN  \n",
       "1                    NaN  \n",
       "2                    NaN  \n",
       "3                    NaN  \n",
       "4                    NaN  \n",
       "\n",
       "[5 rows x 32 columns]"
      ]
     },
     "execution_count": 3,
     "metadata": {},
     "output_type": "execute_result"
    }
   ],
   "source": [
    "df = pd.read_csv(file)\n",
    "df.head()"
   ]
  },
  {
   "cell_type": "code",
   "execution_count": 7,
   "id": "0e47013f-505b-4eee-bf9d-3224595d9ad8",
   "metadata": {},
   "outputs": [
    {
     "name": "stdout",
     "output_type": "stream",
     "text": [
      "<class 'pandas.core.frame.DataFrame'>\n",
      "RangeIndex: 10000 entries, 0 to 9999\n",
      "Data columns (total 32 columns):\n",
      " #   Column                   Non-Null Count  Dtype  \n",
      "---  ------                   --------------  -----  \n",
      " 0   fullVisitorId            10000 non-null  uint64 \n",
      " 1   channelGrouping          10000 non-null  object \n",
      " 2   time                     10000 non-null  int64  \n",
      " 3   country                  10000 non-null  object \n",
      " 4   city                     10000 non-null  object \n",
      " 5   totalTransactionRevenue  619 non-null    float64\n",
      " 6   transactions             628 non-null    float64\n",
      " 7   timeOnSite               9713 non-null   float64\n",
      " 8   pageviews                9999 non-null   float64\n",
      " 9   sessionQualityDim        19 non-null     float64\n",
      " 10  date                     10000 non-null  int64  \n",
      " 11  visitId                  10000 non-null  int64  \n",
      " 12  type                     10000 non-null  object \n",
      " 13  productRefundAmount      0 non-null      float64\n",
      " 14  productQuantity          45 non-null     float64\n",
      " 15  productPrice             10000 non-null  int64  \n",
      " 16  productRevenue           0 non-null      float64\n",
      " 17  productSKU               10000 non-null  object \n",
      " 18  v2ProductName            10000 non-null  object \n",
      " 19  v2ProductCategory        10000 non-null  object \n",
      " 20  productVariant           10000 non-null  object \n",
      " 21  currencyCode             9614 non-null   object \n",
      " 22  itemQuantity             0 non-null      float64\n",
      " 23  itemRevenue              0 non-null      float64\n",
      " 24  transactionRevenue       0 non-null      float64\n",
      " 25  transactionId            0 non-null      float64\n",
      " 26  pageTitle                9908 non-null   object \n",
      " 27  searchKeyword            0 non-null      float64\n",
      " 28  pagePathLevel1           10000 non-null  object \n",
      " 29  eCommerceAction_type     10000 non-null  int64  \n",
      " 30  eCommerceAction_step     10000 non-null  int64  \n",
      " 31  eCommerceAction_option   0 non-null      float64\n",
      "dtypes: float64(14), int64(6), object(11), uint64(1)\n",
      "memory usage: 2.4+ MB\n"
     ]
    }
   ],
   "source": [
    "df.info()"
   ]
  },
  {
   "cell_type": "code",
   "execution_count": 14,
   "id": "39d953d0-737d-4b8d-9868-a76c8e6802cb",
   "metadata": {},
   "outputs": [
    {
     "data": {
      "text/plain": [
       "array(['(not set)', 'not available in demo dataset', 'San Francisco',\n",
       "       'Boulder', 'Ann Arbor', 'Mountain View', 'Los Angeles', 'Houston',\n",
       "       'Palo Alto', 'Paris', 'Chicago', 'New York', 'Zurich', 'Sunnyvale',\n",
       "       'Atlanta', 'Washington', 'Kiev', 'Seattle', 'Toronto', 'Hong Kong',\n",
       "       'Bangkok', 'Austin', 'Goose Creek', 'Ho Chi Minh City',\n",
       "       'Santa Clara', 'Kirkland', 'Cambridge', 'Sao Paulo', 'Sydney',\n",
       "       'San Jose', 'London', 'Brno', 'Warsaw', 'Barcelona', 'Dublin',\n",
       "       'Manila', 'Mexico City', 'Wheaton', 'Hyderabad', 'Gurgaon',\n",
       "       'Oviedo', 'Dallas', 'Montreal', 'Ashburn', 'San Diego',\n",
       "       'Minneapolis', 'Salem', 'Rio de Janeiro', 'Mumbai', 'Stockholm',\n",
       "       'Colombo', 'Phoenix', 'Quebec City', 'Karachi', 'Madrid',\n",
       "       'Pittsburgh', 'Bengaluru', 'Alexandria', 'Ankara', 'Melbourne',\n",
       "       'Bogota', 'Bordeaux', 'La Victoria', 'Cupertino', 'Seoul',\n",
       "       'San Carlos', 'Abu Dhabi', 'Boston', 'Singapore', 'Rome', 'Bursa',\n",
       "       'Hanoi', 'Pozuelo de Alarcon', 'Amsterdam', 'Minato', 'New Delhi',\n",
       "       'Fremont', 'Jakarta', 'Oslo', 'Brisbane', 'Krakow', 'Santiago',\n",
       "       'South San Francisco', 'Odense', 'Las Vegas',\n",
       "       'Piscataway Township', 'Shibuya', 'Orlando', 'Chico', 'San Bruno',\n",
       "       'Vienna', 'Moscow', 'Edison', 'Cape Town', 'Prague', 'Columbia',\n",
       "       'Irvine', 'Milan', 'Athens', 'Kuala Lumpur', 'Roskilde', 'Munich',\n",
       "       'Charlotte', 'Maracaibo', 'Belgrade', 'Tel Aviv-Yafo', 'Dubai',\n",
       "       'Bucharest', 'Pune', 'Buenos Aires', 'Talence', 'Chennai',\n",
       "       'Oakland', 'Council Bluffs', 'Hamburg', 'Osaka', 'Cincinnati',\n",
       "       'Medellin', 'Ahmedabad', 'Mankato', 'Portland', 'Kolkata',\n",
       "       'Kharkiv', 'Saint Petersburg', 'Monterrey', 'Smyrna', 'Columbus',\n",
       "       'Istanbul', 'Tempe', 'Quezon City', 'Mississauga', 'Vladivostok',\n",
       "       'El Paso', 'Auckland', 'Nice', 'Normandy', 'Zagreb', 'Lagos',\n",
       "       'Milpitas', 'Yokohama', 'Makati', 'Riyadh', 'Hamden', 'Denver',\n",
       "       'Kuwait City', 'Timisoara', 'Izmir', 'Manchester', 'Vancouver',\n",
       "       'Santiago de Surco', 'Frankfurt', 'Miami', 'San Antonio',\n",
       "       'Kansas City', 'Nairobi', 'Berlin', 'Pleasanton', 'Cabimas',\n",
       "       'Skopje', 'Curitiba', 'Fort Worth', 'Targu Mures', 'The Dalles',\n",
       "       'Budapest', 'Stuttgart', 'Sapporo', 'Amã', 'Druid Hills', 'Naples',\n",
       "       'South El Monte', 'Alba Iulia'], dtype=object)"
      ]
     },
     "execution_count": 14,
     "metadata": {},
     "output_type": "execute_result"
    }
   ],
   "source": [
    "df['city'].unique()"
   ]
  },
  {
   "cell_type": "code",
   "execution_count": 19,
   "id": "1495bae6-4587-45cc-b142-224ba7d9c531",
   "metadata": {},
   "outputs": [
    {
     "data": {
      "text/plain": [
       "106"
      ]
     },
     "execution_count": 19,
     "metadata": {},
     "output_type": "execute_result"
    }
   ],
   "source": [
    "df['country'].nunique()"
   ]
  },
  {
   "cell_type": "code",
   "execution_count": 15,
   "id": "bf6035ad-bc38-48ca-accb-885861686b29",
   "metadata": {},
   "outputs": [
    {
     "data": {
      "text/plain": [
       "138"
      ]
     },
     "execution_count": 15,
     "metadata": {},
     "output_type": "execute_result"
    }
   ],
   "source": [
    "df['date'].nunique()"
   ]
  },
  {
   "cell_type": "code",
   "execution_count": 17,
   "id": "0dc10825-8aa6-4b95-a7bf-89c63a599c9a",
   "metadata": {},
   "outputs": [
    {
     "data": {
      "text/plain": [
       "(269, 32)"
      ]
     },
     "execution_count": 17,
     "metadata": {},
     "output_type": "execute_result"
    }
   ],
   "source": [
    "df[df['city'] == '(not set)'].shape"
   ]
  },
  {
   "cell_type": "code",
   "execution_count": 18,
   "id": "55bab879-cdec-4eed-9088-872348bc17a4",
   "metadata": {},
   "outputs": [
    {
     "data": {
      "text/plain": [
       "(4668, 32)"
      ]
     },
     "execution_count": 18,
     "metadata": {},
     "output_type": "execute_result"
    }
   ],
   "source": [
    "df[df['city'] == 'not available in demo dataset'].shape"
   ]
  },
  {
   "cell_type": "code",
   "execution_count": 26,
   "id": "2868b865-a208-4cb8-aa7c-f0b090ececc5",
   "metadata": {},
   "outputs": [
    {
     "data": {
      "text/plain": [
       "8"
      ]
     },
     "execution_count": 26,
     "metadata": {},
     "output_type": "execute_result"
    }
   ],
   "source": [
    "df['channelGrouping'].nunique()"
   ]
  },
  {
   "cell_type": "code",
   "execution_count": 27,
   "id": "200cc07a-c507-4003-baff-1c8625ffd32b",
   "metadata": {},
   "outputs": [
    {
     "data": {
      "text/plain": [
       "array(['Organic Search', 'Referral', 'Direct', 'Social', 'Affiliates',\n",
       "       'Display', '(Other)', 'Paid Search'], dtype=object)"
      ]
     },
     "execution_count": 27,
     "metadata": {},
     "output_type": "execute_result"
    }
   ],
   "source": [
    "df['channelGrouping'].unique()"
   ]
  },
  {
   "cell_type": "code",
   "execution_count": 25,
   "id": "6567588d-16fe-4c91-9517-66971fb78805",
   "metadata": {},
   "outputs": [
    {
     "data": {
      "text/plain": [
       "(19, 32)"
      ]
     },
     "execution_count": 25,
     "metadata": {},
     "output_type": "execute_result"
    }
   ],
   "source": [
    "df[df['sessionQualityDim'].notnull()].shape"
   ]
  },
  {
   "cell_type": "code",
   "execution_count": 31,
   "id": "db946c8f-f7dc-4efe-8616-b931a237e307",
   "metadata": {},
   "outputs": [
    {
     "data": {
      "text/plain": [
       "7213"
      ]
     },
     "execution_count": 31,
     "metadata": {},
     "output_type": "execute_result"
    }
   ],
   "source": [
    "df['visitId'].nunique()"
   ]
  },
  {
   "cell_type": "code",
   "execution_count": 32,
   "id": "f920db46-da72-4d44-a654-668a029b7cc0",
   "metadata": {},
   "outputs": [
    {
     "data": {
      "text/plain": [
       "84"
      ]
     },
     "execution_count": 32,
     "metadata": {},
     "output_type": "execute_result"
    }
   ],
   "source": [
    "df['v2ProductName'].nunique()"
   ]
  },
  {
   "cell_type": "code",
   "execution_count": 33,
   "id": "1fbe0cfb-6094-4f1f-aa30-85152bef3cbd",
   "metadata": {},
   "outputs": [
    {
     "data": {
      "text/plain": [
       "array(['Suitcase Organizer Cubes', '26 oz Double Wall Insulated Bottle',\n",
       "       'Metal Texture Roller Pen', 'Maze Pen', 'Gunmetal Roller Ball Pen',\n",
       "       'Google Tri-blend Hoodie Grey', 'Google Snapback Hat Black',\n",
       "       'Waterproof Gear Bag', \"Google Men's  Zip Hoodie\",\n",
       "       \"Android Men's  Zip Hoodie\", \"Android Women's Fleece Hoodie\",\n",
       "       \"Google Men's Pullover Hoodie Grey\",\n",
       "       \"Google Women's Short Sleeve Badge Tee Red Heather\",\n",
       "       \"Google Men's 100% Cotton Short Sleeve Hero Tee Black\",\n",
       "       \"Google Men's 100% Cotton Short Sleeve Hero Tee Navy\",\n",
       "       \"Google Men's 100% Cotton Short Sleeve Hero Tee White\",\n",
       "       \"Google Men's Watershed Full Zip Hoodie Grey\",\n",
       "       \"Google Men's Microfiber 1/4 Zip Pullover Blue/Indigo\",\n",
       "       \"Google Men's Performance Full Zip Jacket Black\",\n",
       "       \"Google Women's Yoga Jacket Black\",\n",
       "       \"Google Women's Convertible Vest-Jacket Sea Foam Green\",\n",
       "       \"Google Women's 1/4 Zip Jacket Charcoal\",\n",
       "       \"Google Women's Performance Full Zip Jacket Black\",\n",
       "       \"Google Women's Short Sleeve Hero Tee Black\",\n",
       "       \"Google Women's Short Sleeve Hero Tee White\",\n",
       "       \"Google Women's Lightweight Microfleece Jacket\",\n",
       "       'Google Toddler Short Sleeve T-shirt Yellow',\n",
       "       'Google Pet Feeding Mat',\n",
       "       'Google G Noise-reducing Bluetooth Headphones',\n",
       "       'YouTube RFID Journal', 'Android RFID Journal',\n",
       "       'Android Hard Cover Journal', 'Google Hard Cover Journal',\n",
       "       'Google Leather Journal', 'Google Spiral Leather Journal',\n",
       "       'Nest® Cam Outdoor Security Camera - USA',\n",
       "       \"Google Women's Short Sleeve Hero Tee Sky Blue\",\n",
       "       \"YouTube Men's Short Sleeve Hero Tee Black\",\n",
       "       \"Google Men's Vintage Tank\", '25L Classic Rucksack',\n",
       "       'Google Leather Perforated Journal', 'YouTube Luggage Tag',\n",
       "       'Google Sunglasses', 'Yoga Mat', 'Google Collapsible Pet Bowl',\n",
       "       'Collapsible Pet Bowl', '8 pc Android Sticker Sheet',\n",
       "       'Android Sticker Sheet Ultra Removable', 'Windup Android',\n",
       "       'Android Luggage Tag', 'Straw Beach Mat',\n",
       "       'SPF-15 Slim & Slender Lip Balm', 'SPF-15 Lip Balm',\n",
       "       'Fashion Sunglasses & Pouch', '1 oz Hand Sanitizer',\n",
       "       'Softsided Travel Pouch Set', 'Seat Pack Organizer',\n",
       "       'Bottle Opener Clip', 'Google Laptop and Cell Phone Stickers',\n",
       "       'Compact Selfie Stick', 'Google Kick Ball', 'Kick Ball',\n",
       "       'Foam Can and Bottle Cooler', 'Koozie Can Kooler',\n",
       "       'Switch Tone Color Crayon Pen', 'Pop-a-Point Crayon',\n",
       "       'YouTube Custom Decals', '7&quot; Dog Frisbee', '7\" Dog Frisbee',\n",
       "       'Crunch Noise Dog Toy', 'Crunch-It Dog Toy', 'Google Lunch Bag',\n",
       "       'Electronics Accessory Pouch', 'Large Zipper Top Tote Bag',\n",
       "       'Google Tote Bag', 'Speed Zone Air Mesh Tote',\n",
       "       'Collapsible Shopping Bag', 'Latitudes Foldaway Shopper',\n",
       "       'Google Canvas Tote Natural/Navy', 'Reusable Shopping Bag',\n",
       "       'Chevron Shopper', 'Google Zipper-front Sports Bag',\n",
       "       'Waterpoof Gear Bag', 'Sport Bag'], dtype=object)"
      ]
     },
     "execution_count": 33,
     "metadata": {},
     "output_type": "execute_result"
    }
   ],
   "source": [
    "df['v2ProductName'].unique()"
   ]
  },
  {
   "cell_type": "code",
   "execution_count": 34,
   "id": "c3048948-b792-4294-b39d-42b2bc668c36",
   "metadata": {},
   "outputs": [
    {
     "data": {
      "text/html": [
       "<div>\n",
       "<style scoped>\n",
       "    .dataframe tbody tr th:only-of-type {\n",
       "        vertical-align: middle;\n",
       "    }\n",
       "\n",
       "    .dataframe tbody tr th {\n",
       "        vertical-align: top;\n",
       "    }\n",
       "\n",
       "    .dataframe thead th {\n",
       "        text-align: right;\n",
       "    }\n",
       "</style>\n",
       "<table border=\"1\" class=\"dataframe\">\n",
       "  <thead>\n",
       "    <tr style=\"text-align: right;\">\n",
       "      <th></th>\n",
       "      <th>fullVisitorId</th>\n",
       "      <th>channelGrouping</th>\n",
       "      <th>time</th>\n",
       "      <th>country</th>\n",
       "      <th>city</th>\n",
       "      <th>totalTransactionRevenue</th>\n",
       "      <th>transactions</th>\n",
       "      <th>timeOnSite</th>\n",
       "      <th>pageviews</th>\n",
       "      <th>sessionQualityDim</th>\n",
       "      <th>...</th>\n",
       "      <th>itemQuantity</th>\n",
       "      <th>itemRevenue</th>\n",
       "      <th>transactionRevenue</th>\n",
       "      <th>transactionId</th>\n",
       "      <th>pageTitle</th>\n",
       "      <th>searchKeyword</th>\n",
       "      <th>pagePathLevel1</th>\n",
       "      <th>eCommerceAction_type</th>\n",
       "      <th>eCommerceAction_step</th>\n",
       "      <th>eCommerceAction_option</th>\n",
       "    </tr>\n",
       "  </thead>\n",
       "  <tbody>\n",
       "    <tr>\n",
       "      <th>6233</th>\n",
       "      <td>5334401026917196767</td>\n",
       "      <td>Direct</td>\n",
       "      <td>12633</td>\n",
       "      <td>United Kingdom</td>\n",
       "      <td>not available in demo dataset</td>\n",
       "      <td>NaN</td>\n",
       "      <td>NaN</td>\n",
       "      <td>13.0</td>\n",
       "      <td>NaN</td>\n",
       "      <td>NaN</td>\n",
       "      <td>...</td>\n",
       "      <td>NaN</td>\n",
       "      <td>NaN</td>\n",
       "      <td>NaN</td>\n",
       "      <td>NaN</td>\n",
       "      <td>Bags</td>\n",
       "      <td>NaN</td>\n",
       "      <td>/google+redesign/</td>\n",
       "      <td>0</td>\n",
       "      <td>1</td>\n",
       "      <td>NaN</td>\n",
       "    </tr>\n",
       "  </tbody>\n",
       "</table>\n",
       "<p>1 rows × 32 columns</p>\n",
       "</div>"
      ],
      "text/plain": [
       "            fullVisitorId channelGrouping   time         country  \\\n",
       "6233  5334401026917196767          Direct  12633  United Kingdom   \n",
       "\n",
       "                               city  totalTransactionRevenue  transactions  \\\n",
       "6233  not available in demo dataset                      NaN           NaN   \n",
       "\n",
       "      timeOnSite  pageviews  sessionQualityDim  ...  itemQuantity  \\\n",
       "6233        13.0        NaN                NaN  ...           NaN   \n",
       "\n",
       "      itemRevenue transactionRevenue  transactionId  pageTitle  searchKeyword  \\\n",
       "6233          NaN                NaN            NaN       Bags            NaN   \n",
       "\n",
       "         pagePathLevel1 eCommerceAction_type eCommerceAction_step  \\\n",
       "6233  /google+redesign/                    0                    1   \n",
       "\n",
       "     eCommerceAction_option  \n",
       "6233                    NaN  \n",
       "\n",
       "[1 rows x 32 columns]"
      ]
     },
     "execution_count": 34,
     "metadata": {},
     "output_type": "execute_result"
    }
   ],
   "source": [
    "df[df['pageviews'].isnull()]"
   ]
  },
  {
   "cell_type": "code",
   "execution_count": 43,
   "id": "58f2c232-9f83-4d1b-9227-d7cb4a4711a6",
   "metadata": {},
   "outputs": [
    {
     "data": {
      "text/html": [
       "<div>\n",
       "<style scoped>\n",
       "    .dataframe tbody tr th:only-of-type {\n",
       "        vertical-align: middle;\n",
       "    }\n",
       "\n",
       "    .dataframe tbody tr th {\n",
       "        vertical-align: top;\n",
       "    }\n",
       "\n",
       "    .dataframe thead th {\n",
       "        text-align: right;\n",
       "    }\n",
       "</style>\n",
       "<table border=\"1\" class=\"dataframe\">\n",
       "  <thead>\n",
       "    <tr style=\"text-align: right;\">\n",
       "      <th></th>\n",
       "      <th>date</th>\n",
       "      <th>visitId</th>\n",
       "      <th>type</th>\n",
       "      <th>productRefundAmount</th>\n",
       "      <th>productQuantity</th>\n",
       "      <th>productPrice</th>\n",
       "      <th>productRevenue</th>\n",
       "      <th>productSKU</th>\n",
       "      <th>v2ProductName</th>\n",
       "      <th>v2ProductCategory</th>\n",
       "      <th>productVariant</th>\n",
       "      <th>currencyCode</th>\n",
       "      <th>itemQuantity</th>\n",
       "      <th>itemRevenue</th>\n",
       "      <th>transactionRevenue</th>\n",
       "      <th>transactionId</th>\n",
       "      <th>pageTitle</th>\n",
       "      <th>searchKeyword</th>\n",
       "      <th>pagePathLevel1</th>\n",
       "      <th>eCommerceAction_type</th>\n",
       "    </tr>\n",
       "  </thead>\n",
       "  <tbody>\n",
       "    <tr>\n",
       "      <th>6233</th>\n",
       "      <td>20160816</td>\n",
       "      <td>1471354236</td>\n",
       "      <td>EVENT</td>\n",
       "      <td>NaN</td>\n",
       "      <td>NaN</td>\n",
       "      <td>4990000</td>\n",
       "      <td>NaN</td>\n",
       "      <td>GGOEGBJC019999</td>\n",
       "      <td>Collapsible Shopping Bag</td>\n",
       "      <td>Home/Limited Supply/Bags/</td>\n",
       "      <td>(not set)</td>\n",
       "      <td>USD</td>\n",
       "      <td>NaN</td>\n",
       "      <td>NaN</td>\n",
       "      <td>NaN</td>\n",
       "      <td>NaN</td>\n",
       "      <td>Bags</td>\n",
       "      <td>NaN</td>\n",
       "      <td>/google+redesign/</td>\n",
       "      <td>0</td>\n",
       "    </tr>\n",
       "  </tbody>\n",
       "</table>\n",
       "</div>"
      ],
      "text/plain": [
       "          date     visitId   type  productRefundAmount  productQuantity  \\\n",
       "6233  20160816  1471354236  EVENT                  NaN              NaN   \n",
       "\n",
       "      productPrice  productRevenue      productSKU             v2ProductName  \\\n",
       "6233       4990000             NaN  GGOEGBJC019999  Collapsible Shopping Bag   \n",
       "\n",
       "              v2ProductCategory productVariant currencyCode  itemQuantity  \\\n",
       "6233  Home/Limited Supply/Bags/      (not set)          USD           NaN   \n",
       "\n",
       "      itemRevenue  transactionRevenue  transactionId pageTitle  searchKeyword  \\\n",
       "6233          NaN                 NaN            NaN      Bags            NaN   \n",
       "\n",
       "         pagePathLevel1  eCommerceAction_type  \n",
       "6233  /google+redesign/                     0  "
      ]
     },
     "execution_count": 43,
     "metadata": {},
     "output_type": "execute_result"
    }
   ],
   "source": [
    "df[df['pageviews'].isnull()].iloc[:, 10:-2]"
   ]
  },
  {
   "cell_type": "code",
   "execution_count": 46,
   "id": "8ebf9489-fdfa-4c51-9450-ccff551f0cd7",
   "metadata": {},
   "outputs": [],
   "source": [
    "df[df['timeOnSite'].isnull()].to_csv(os.path.join(os.getcwd(), 'test.csv'))"
   ]
  },
  {
   "cell_type": "code",
   "execution_count": 48,
   "id": "38500103-db53-4e35-83c1-23fb2022e0eb",
   "metadata": {},
   "outputs": [],
   "source": [
    "df[df['time'] <= 0].to_csv(os.path.join(os.getcwd(), 'test_2.csv'))"
   ]
  },
  {
   "cell_type": "code",
   "execution_count": null,
   "id": "4f187167-9078-4cd3-9874-a26a525c23e2",
   "metadata": {},
   "outputs": [],
   "source": []
  }
 ],
 "metadata": {
  "kernelspec": {
   "display_name": "Python 3 (ipykernel)",
   "language": "python",
   "name": "python3"
  },
  "language_info": {
   "codemirror_mode": {
    "name": "ipython",
    "version": 3
   },
   "file_extension": ".py",
   "mimetype": "text/x-python",
   "name": "python",
   "nbconvert_exporter": "python",
   "pygments_lexer": "ipython3",
   "version": "3.11.9"
  }
 },
 "nbformat": 4,
 "nbformat_minor": 5
}
