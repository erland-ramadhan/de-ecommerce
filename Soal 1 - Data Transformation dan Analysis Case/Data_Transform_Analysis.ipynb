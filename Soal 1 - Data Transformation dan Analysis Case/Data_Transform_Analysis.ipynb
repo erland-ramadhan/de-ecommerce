{
 "cells": [
  {
   "cell_type": "markdown",
   "id": "5f7585fb-8261-4bfd-98bd-4e77424ba4c5",
   "metadata": {},
   "source": [
    "## Load the libraries and the dataset\n",
    "\n",
    "All the libraries needed are `pandas` and `os`. `pandas` also includes plotting library, so no need to import `matplotlib` library.\n",
    "\n",
    "The dataset is in the same folder as the notebook and in the format of CSV. So, the dataset is loaded with `read_csv` method from `pandas` library.\n",
    "\n",
    "`head` method is used to visualize how the dataset looks like."
   ]
  },
  {
   "cell_type": "code",
   "execution_count": 1,
   "id": "e38682dc-356c-466f-8929-3de014953a23",
   "metadata": {},
   "outputs": [
    {
     "data": {
      "text/html": [
       "<div>\n",
       "<style scoped>\n",
       "    .dataframe tbody tr th:only-of-type {\n",
       "        vertical-align: middle;\n",
       "    }\n",
       "\n",
       "    .dataframe tbody tr th {\n",
       "        vertical-align: top;\n",
       "    }\n",
       "\n",
       "    .dataframe thead th {\n",
       "        text-align: right;\n",
       "    }\n",
       "</style>\n",
       "<table border=\"1\" class=\"dataframe\">\n",
       "  <thead>\n",
       "    <tr style=\"text-align: right;\">\n",
       "      <th></th>\n",
       "      <th>fullVisitorId</th>\n",
       "      <th>channelGrouping</th>\n",
       "      <th>time</th>\n",
       "      <th>country</th>\n",
       "      <th>city</th>\n",
       "      <th>totalTransactionRevenue</th>\n",
       "      <th>transactions</th>\n",
       "      <th>timeOnSite</th>\n",
       "      <th>pageviews</th>\n",
       "      <th>sessionQualityDim</th>\n",
       "      <th>...</th>\n",
       "      <th>itemQuantity</th>\n",
       "      <th>itemRevenue</th>\n",
       "      <th>transactionRevenue</th>\n",
       "      <th>transactionId</th>\n",
       "      <th>pageTitle</th>\n",
       "      <th>searchKeyword</th>\n",
       "      <th>pagePathLevel1</th>\n",
       "      <th>eCommerceAction_type</th>\n",
       "      <th>eCommerceAction_step</th>\n",
       "      <th>eCommerceAction_option</th>\n",
       "    </tr>\n",
       "  </thead>\n",
       "  <tbody>\n",
       "    <tr>\n",
       "      <th>0</th>\n",
       "      <td>2515546493837534633</td>\n",
       "      <td>Organic Search</td>\n",
       "      <td>966564</td>\n",
       "      <td>Taiwan</td>\n",
       "      <td>(not set)</td>\n",
       "      <td>NaN</td>\n",
       "      <td>NaN</td>\n",
       "      <td>1567.0</td>\n",
       "      <td>82.0</td>\n",
       "      <td>17.0</td>\n",
       "      <td>...</td>\n",
       "      <td>NaN</td>\n",
       "      <td>NaN</td>\n",
       "      <td>NaN</td>\n",
       "      <td>NaN</td>\n",
       "      <td>NaN</td>\n",
       "      <td>NaN</td>\n",
       "      <td>/storeitem.html</td>\n",
       "      <td>0</td>\n",
       "      <td>1</td>\n",
       "      <td>NaN</td>\n",
       "    </tr>\n",
       "    <tr>\n",
       "      <th>1</th>\n",
       "      <td>9361741997835388618</td>\n",
       "      <td>Organic Search</td>\n",
       "      <td>157377</td>\n",
       "      <td>France</td>\n",
       "      <td>not available in demo dataset</td>\n",
       "      <td>NaN</td>\n",
       "      <td>NaN</td>\n",
       "      <td>321.0</td>\n",
       "      <td>8.0</td>\n",
       "      <td>NaN</td>\n",
       "      <td>...</td>\n",
       "      <td>NaN</td>\n",
       "      <td>NaN</td>\n",
       "      <td>NaN</td>\n",
       "      <td>NaN</td>\n",
       "      <td>NaN</td>\n",
       "      <td>NaN</td>\n",
       "      <td>/storeitem.html</td>\n",
       "      <td>0</td>\n",
       "      <td>1</td>\n",
       "      <td>NaN</td>\n",
       "    </tr>\n",
       "    <tr>\n",
       "      <th>2</th>\n",
       "      <td>7313828956068851679</td>\n",
       "      <td>Referral</td>\n",
       "      <td>228279</td>\n",
       "      <td>United States</td>\n",
       "      <td>San Francisco</td>\n",
       "      <td>NaN</td>\n",
       "      <td>NaN</td>\n",
       "      <td>927.0</td>\n",
       "      <td>11.0</td>\n",
       "      <td>63.0</td>\n",
       "      <td>...</td>\n",
       "      <td>NaN</td>\n",
       "      <td>NaN</td>\n",
       "      <td>NaN</td>\n",
       "      <td>NaN</td>\n",
       "      <td>NaN</td>\n",
       "      <td>NaN</td>\n",
       "      <td>/storeitem.html</td>\n",
       "      <td>0</td>\n",
       "      <td>1</td>\n",
       "      <td>NaN</td>\n",
       "    </tr>\n",
       "    <tr>\n",
       "      <th>3</th>\n",
       "      <td>6036794406403793540</td>\n",
       "      <td>Organic Search</td>\n",
       "      <td>1615618</td>\n",
       "      <td>United States</td>\n",
       "      <td>Boulder</td>\n",
       "      <td>NaN</td>\n",
       "      <td>NaN</td>\n",
       "      <td>1616.0</td>\n",
       "      <td>13.0</td>\n",
       "      <td>38.0</td>\n",
       "      <td>...</td>\n",
       "      <td>NaN</td>\n",
       "      <td>NaN</td>\n",
       "      <td>NaN</td>\n",
       "      <td>NaN</td>\n",
       "      <td>NaN</td>\n",
       "      <td>NaN</td>\n",
       "      <td>/storeitem.html</td>\n",
       "      <td>0</td>\n",
       "      <td>1</td>\n",
       "      <td>NaN</td>\n",
       "    </tr>\n",
       "    <tr>\n",
       "      <th>4</th>\n",
       "      <td>7847280609739507227</td>\n",
       "      <td>Organic Search</td>\n",
       "      <td>37832</td>\n",
       "      <td>Canada</td>\n",
       "      <td>not available in demo dataset</td>\n",
       "      <td>NaN</td>\n",
       "      <td>NaN</td>\n",
       "      <td>1222.0</td>\n",
       "      <td>45.0</td>\n",
       "      <td>53.0</td>\n",
       "      <td>...</td>\n",
       "      <td>NaN</td>\n",
       "      <td>NaN</td>\n",
       "      <td>NaN</td>\n",
       "      <td>NaN</td>\n",
       "      <td>NaN</td>\n",
       "      <td>NaN</td>\n",
       "      <td>/storeitem.html</td>\n",
       "      <td>0</td>\n",
       "      <td>1</td>\n",
       "      <td>NaN</td>\n",
       "    </tr>\n",
       "  </tbody>\n",
       "</table>\n",
       "<p>5 rows × 32 columns</p>\n",
       "</div>"
      ],
      "text/plain": [
       "         fullVisitorId channelGrouping     time        country  \\\n",
       "0  2515546493837534633  Organic Search   966564         Taiwan   \n",
       "1  9361741997835388618  Organic Search   157377         France   \n",
       "2  7313828956068851679        Referral   228279  United States   \n",
       "3  6036794406403793540  Organic Search  1615618  United States   \n",
       "4  7847280609739507227  Organic Search    37832         Canada   \n",
       "\n",
       "                            city  totalTransactionRevenue  transactions  \\\n",
       "0                      (not set)                      NaN           NaN   \n",
       "1  not available in demo dataset                      NaN           NaN   \n",
       "2                  San Francisco                      NaN           NaN   \n",
       "3                        Boulder                      NaN           NaN   \n",
       "4  not available in demo dataset                      NaN           NaN   \n",
       "\n",
       "   timeOnSite  pageviews  sessionQualityDim  ...  itemQuantity  itemRevenue  \\\n",
       "0      1567.0       82.0               17.0  ...           NaN          NaN   \n",
       "1       321.0        8.0                NaN  ...           NaN          NaN   \n",
       "2       927.0       11.0               63.0  ...           NaN          NaN   \n",
       "3      1616.0       13.0               38.0  ...           NaN          NaN   \n",
       "4      1222.0       45.0               53.0  ...           NaN          NaN   \n",
       "\n",
       "  transactionRevenue  transactionId  pageTitle  searchKeyword  \\\n",
       "0                NaN            NaN        NaN            NaN   \n",
       "1                NaN            NaN        NaN            NaN   \n",
       "2                NaN            NaN        NaN            NaN   \n",
       "3                NaN            NaN        NaN            NaN   \n",
       "4                NaN            NaN        NaN            NaN   \n",
       "\n",
       "    pagePathLevel1 eCommerceAction_type eCommerceAction_step  \\\n",
       "0  /storeitem.html                    0                    1   \n",
       "1  /storeitem.html                    0                    1   \n",
       "2  /storeitem.html                    0                    1   \n",
       "3  /storeitem.html                    0                    1   \n",
       "4  /storeitem.html                    0                    1   \n",
       "\n",
       "  eCommerceAction_option  \n",
       "0                    NaN  \n",
       "1                    NaN  \n",
       "2                    NaN  \n",
       "3                    NaN  \n",
       "4                    NaN  \n",
       "\n",
       "[5 rows x 32 columns]"
      ]
     },
     "execution_count": 1,
     "metadata": {},
     "output_type": "execute_result"
    }
   ],
   "source": [
    "import os\n",
    "import pandas as pd\n",
    "\n",
    "file = os.path.join(os.getcwd(), 'ecommerce-session-bigquery.csv')\n",
    "df = pd.read_csv(file)\n",
    "df.head()"
   ]
  },
  {
   "cell_type": "code",
   "execution_count": 2,
   "id": "0e47013f-505b-4eee-bf9d-3224595d9ad8",
   "metadata": {},
   "outputs": [
    {
     "name": "stdout",
     "output_type": "stream",
     "text": [
      "<class 'pandas.core.frame.DataFrame'>\n",
      "RangeIndex: 10000 entries, 0 to 9999\n",
      "Data columns (total 32 columns):\n",
      " #   Column                   Non-Null Count  Dtype  \n",
      "---  ------                   --------------  -----  \n",
      " 0   fullVisitorId            10000 non-null  uint64 \n",
      " 1   channelGrouping          10000 non-null  object \n",
      " 2   time                     10000 non-null  int64  \n",
      " 3   country                  10000 non-null  object \n",
      " 4   city                     10000 non-null  object \n",
      " 5   totalTransactionRevenue  619 non-null    float64\n",
      " 6   transactions             628 non-null    float64\n",
      " 7   timeOnSite               9713 non-null   float64\n",
      " 8   pageviews                9999 non-null   float64\n",
      " 9   sessionQualityDim        19 non-null     float64\n",
      " 10  date                     10000 non-null  int64  \n",
      " 11  visitId                  10000 non-null  int64  \n",
      " 12  type                     10000 non-null  object \n",
      " 13  productRefundAmount      0 non-null      float64\n",
      " 14  productQuantity          45 non-null     float64\n",
      " 15  productPrice             10000 non-null  int64  \n",
      " 16  productRevenue           0 non-null      float64\n",
      " 17  productSKU               10000 non-null  object \n",
      " 18  v2ProductName            10000 non-null  object \n",
      " 19  v2ProductCategory        10000 non-null  object \n",
      " 20  productVariant           10000 non-null  object \n",
      " 21  currencyCode             9614 non-null   object \n",
      " 22  itemQuantity             0 non-null      float64\n",
      " 23  itemRevenue              0 non-null      float64\n",
      " 24  transactionRevenue       0 non-null      float64\n",
      " 25  transactionId            0 non-null      float64\n",
      " 26  pageTitle                9908 non-null   object \n",
      " 27  searchKeyword            0 non-null      float64\n",
      " 28  pagePathLevel1           10000 non-null  object \n",
      " 29  eCommerceAction_type     10000 non-null  int64  \n",
      " 30  eCommerceAction_step     10000 non-null  int64  \n",
      " 31  eCommerceAction_option   0 non-null      float64\n",
      "dtypes: float64(14), int64(6), object(11), uint64(1)\n",
      "memory usage: 2.4+ MB\n"
     ]
    }
   ],
   "source": [
    "# Print the information details about the dataset\n",
    "df.info()"
   ]
  },
  {
   "cell_type": "markdown",
   "id": "92576a21-b120-4fff-995d-162114ec4cd0",
   "metadata": {},
   "source": [
    "## Data preprocessing\n",
    "\n",
    "In this section, there are some columns that are dropped because those are not needed throughout the challenges.\n",
    "\n",
    "Dropping the rows requires careful attention. The best way to do this is to analyze each intriguing column and then come up with the decision whether to drop them the rows or not."
   ]
  },
  {
   "cell_type": "code",
   "execution_count": 3,
   "id": "298e2d99-1f22-410b-a6c1-b74b5a0e65d7",
   "metadata": {},
   "outputs": [],
   "source": [
    "# Dropped the columns that are unlikely used throughout the challenges\n",
    "\n",
    "dropped_col = [\n",
    "    'time',\n",
    "    'type',\n",
    "    'productSKU',\n",
    "    'v2ProductCategory',\n",
    "    'productVariant',\n",
    "    'itemQuantity',\n",
    "    'itemRevenue',\n",
    "    'transactionRevenue',\n",
    "    'transactionId',\n",
    "    'pageTitle',\n",
    "    'searchKeyword',\n",
    "    'pagePathLevel1',\n",
    "    'eCommerceAction_type',\n",
    "    'eCommerceAction_step',\n",
    "    'eCommerceAction_option'\n",
    "]\n",
    "\n",
    "df = df.drop(columns=dropped_col)"
   ]
  },
  {
   "cell_type": "code",
   "execution_count": 4,
   "id": "2ce3d04b-d80d-433f-ba2c-64084114c7c4",
   "metadata": {},
   "outputs": [
    {
     "name": "stdout",
     "output_type": "stream",
     "text": [
      "<class 'pandas.core.frame.DataFrame'>\n",
      "RangeIndex: 10000 entries, 0 to 9999\n",
      "Data columns (total 17 columns):\n",
      " #   Column                   Non-Null Count  Dtype  \n",
      "---  ------                   --------------  -----  \n",
      " 0   fullVisitorId            10000 non-null  uint64 \n",
      " 1   channelGrouping          10000 non-null  object \n",
      " 2   country                  10000 non-null  object \n",
      " 3   city                     10000 non-null  object \n",
      " 4   totalTransactionRevenue  619 non-null    float64\n",
      " 5   transactions             628 non-null    float64\n",
      " 6   timeOnSite               9713 non-null   float64\n",
      " 7   pageviews                9999 non-null   float64\n",
      " 8   sessionQualityDim        19 non-null     float64\n",
      " 9   date                     10000 non-null  int64  \n",
      " 10  visitId                  10000 non-null  int64  \n",
      " 11  productRefundAmount      0 non-null      float64\n",
      " 12  productQuantity          45 non-null     float64\n",
      " 13  productPrice             10000 non-null  int64  \n",
      " 14  productRevenue           0 non-null      float64\n",
      " 15  v2ProductName            10000 non-null  object \n",
      " 16  currencyCode             9614 non-null   object \n",
      "dtypes: float64(8), int64(3), object(5), uint64(1)\n",
      "memory usage: 1.3+ MB\n"
     ]
    }
   ],
   "source": [
    "# Print the information details about the dataset\n",
    "df.info()"
   ]
  },
  {
   "cell_type": "markdown",
   "id": "f9467e00-7373-4be1-88d9-dbd53ff7f870",
   "metadata": {},
   "source": [
    "##### As can be observed, that the dataset becomes much neater after dropping irrelevant columns.\n",
    "##### After this, dropping of rows is a challenge."
   ]
  },
  {
   "cell_type": "code",
   "execution_count": 5,
   "id": "c86af917-850d-482f-a7fe-ebe7072fe772",
   "metadata": {},
   "outputs": [
    {
     "data": {
      "text/plain": [
       "totalTransactionRevenue    0\n",
       "transactions               0\n",
       "dtype: int64"
      ]
     },
     "execution_count": 5,
     "metadata": {},
     "output_type": "execute_result"
    }
   ],
   "source": [
    "# Observe the rows where there are no values on 'timeOnSite' column.\n",
    "df[df['timeOnSite'].isnull()][['totalTransactionRevenue', 'transactions']].nunique()"
   ]
  },
  {
   "cell_type": "markdown",
   "id": "2f47f95b-ac5e-46d5-943c-d02148b34cdc",
   "metadata": {},
   "source": [
    "As can be observed, there is nothing useful about this rows. So, we can just drop it."
   ]
  },
  {
   "cell_type": "code",
   "execution_count": 6,
   "id": "561e558f-599a-4aa6-8b72-9948c0a1cb4f",
   "metadata": {},
   "outputs": [],
   "source": [
    "df = df.dropna(subset=['timeOnSite']).reset_index(drop=True)"
   ]
  },
  {
   "cell_type": "code",
   "execution_count": 7,
   "id": "fbb2f0dc-86ae-4891-88ed-1cc1029b6562",
   "metadata": {},
   "outputs": [
    {
     "data": {
      "text/html": [
       "<div>\n",
       "<style scoped>\n",
       "    .dataframe tbody tr th:only-of-type {\n",
       "        vertical-align: middle;\n",
       "    }\n",
       "\n",
       "    .dataframe tbody tr th {\n",
       "        vertical-align: top;\n",
       "    }\n",
       "\n",
       "    .dataframe thead th {\n",
       "        text-align: right;\n",
       "    }\n",
       "</style>\n",
       "<table border=\"1\" class=\"dataframe\">\n",
       "  <thead>\n",
       "    <tr style=\"text-align: right;\">\n",
       "      <th></th>\n",
       "      <th>fullVisitorId</th>\n",
       "      <th>channelGrouping</th>\n",
       "      <th>country</th>\n",
       "      <th>city</th>\n",
       "      <th>totalTransactionRevenue</th>\n",
       "      <th>transactions</th>\n",
       "      <th>timeOnSite</th>\n",
       "      <th>pageviews</th>\n",
       "      <th>sessionQualityDim</th>\n",
       "      <th>date</th>\n",
       "      <th>visitId</th>\n",
       "      <th>productRefundAmount</th>\n",
       "      <th>productQuantity</th>\n",
       "      <th>productPrice</th>\n",
       "      <th>productRevenue</th>\n",
       "      <th>v2ProductName</th>\n",
       "      <th>currencyCode</th>\n",
       "    </tr>\n",
       "  </thead>\n",
       "  <tbody>\n",
       "    <tr>\n",
       "      <th>6042</th>\n",
       "      <td>5334401026917196767</td>\n",
       "      <td>Direct</td>\n",
       "      <td>United Kingdom</td>\n",
       "      <td>not available in demo dataset</td>\n",
       "      <td>NaN</td>\n",
       "      <td>NaN</td>\n",
       "      <td>13.0</td>\n",
       "      <td>NaN</td>\n",
       "      <td>NaN</td>\n",
       "      <td>20160816</td>\n",
       "      <td>1471354236</td>\n",
       "      <td>NaN</td>\n",
       "      <td>NaN</td>\n",
       "      <td>4990000</td>\n",
       "      <td>NaN</td>\n",
       "      <td>Collapsible Shopping Bag</td>\n",
       "      <td>USD</td>\n",
       "    </tr>\n",
       "  </tbody>\n",
       "</table>\n",
       "</div>"
      ],
      "text/plain": [
       "            fullVisitorId channelGrouping         country  \\\n",
       "6042  5334401026917196767          Direct  United Kingdom   \n",
       "\n",
       "                               city  totalTransactionRevenue  transactions  \\\n",
       "6042  not available in demo dataset                      NaN           NaN   \n",
       "\n",
       "      timeOnSite  pageviews  sessionQualityDim      date     visitId  \\\n",
       "6042        13.0        NaN                NaN  20160816  1471354236   \n",
       "\n",
       "      productRefundAmount  productQuantity  productPrice  productRevenue  \\\n",
       "6042                  NaN              NaN       4990000             NaN   \n",
       "\n",
       "                 v2ProductName currencyCode  \n",
       "6042  Collapsible Shopping Bag          USD  "
      ]
     },
     "execution_count": 7,
     "metadata": {},
     "output_type": "execute_result"
    }
   ],
   "source": [
    "# Observe the rows where there are no values on 'pageviews' column.\n",
    "df[df['pageviews'].isnull()]"
   ]
  },
  {
   "cell_type": "markdown",
   "id": "d0a45653-6e68-4b06-bdea-638a5a8d683a",
   "metadata": {},
   "source": [
    "Again, there is nothing useful about this rows. So, we can just drop it."
   ]
  },
  {
   "cell_type": "code",
   "execution_count": 8,
   "id": "5ac7e45a-8cbb-405b-b6fb-2c761c5e3eb8",
   "metadata": {},
   "outputs": [],
   "source": [
    "df = df.dropna(subset=['pageviews']).reset_index(drop=True)"
   ]
  },
  {
   "cell_type": "code",
   "execution_count": 5,
   "id": "7e29e50b-0719-4b40-b8d4-edafb60f2a78",
   "metadata": {},
   "outputs": [
    {
     "data": {
      "text/html": [
       "<div>\n",
       "<style scoped>\n",
       "    .dataframe tbody tr th:only-of-type {\n",
       "        vertical-align: middle;\n",
       "    }\n",
       "\n",
       "    .dataframe tbody tr th {\n",
       "        vertical-align: top;\n",
       "    }\n",
       "\n",
       "    .dataframe thead th {\n",
       "        text-align: right;\n",
       "    }\n",
       "</style>\n",
       "<table border=\"1\" class=\"dataframe\">\n",
       "  <thead>\n",
       "    <tr style=\"text-align: right;\">\n",
       "      <th></th>\n",
       "      <th>fullVisitorId</th>\n",
       "      <th>channelGrouping</th>\n",
       "      <th>country</th>\n",
       "      <th>city</th>\n",
       "      <th>totalTransactionRevenue</th>\n",
       "      <th>transactions</th>\n",
       "      <th>timeOnSite</th>\n",
       "      <th>pageviews</th>\n",
       "      <th>sessionQualityDim</th>\n",
       "      <th>date</th>\n",
       "      <th>visitId</th>\n",
       "      <th>productRefundAmount</th>\n",
       "      <th>productQuantity</th>\n",
       "      <th>productPrice</th>\n",
       "      <th>productRevenue</th>\n",
       "      <th>v2ProductName</th>\n",
       "      <th>currencyCode</th>\n",
       "    </tr>\n",
       "  </thead>\n",
       "  <tbody>\n",
       "    <tr>\n",
       "      <th>2191</th>\n",
       "      <td>8076486872734382011</td>\n",
       "      <td>Organic Search</td>\n",
       "      <td>Canada</td>\n",
       "      <td>not available in demo dataset</td>\n",
       "      <td>2.447870e+09</td>\n",
       "      <td>1.0</td>\n",
       "      <td>1772.0</td>\n",
       "      <td>115.0</td>\n",
       "      <td>NaN</td>\n",
       "      <td>20161002</td>\n",
       "      <td>1475427697</td>\n",
       "      <td>NaN</td>\n",
       "      <td>NaN</td>\n",
       "      <td>6990000</td>\n",
       "      <td>NaN</td>\n",
       "      <td>Google Pet Feeding Mat</td>\n",
       "      <td>NaN</td>\n",
       "    </tr>\n",
       "    <tr>\n",
       "      <th>8225</th>\n",
       "      <td>7344519175727343086</td>\n",
       "      <td>Organic Search</td>\n",
       "      <td>Venezuela</td>\n",
       "      <td>not available in demo dataset</td>\n",
       "      <td>5.051400e+08</td>\n",
       "      <td>3.0</td>\n",
       "      <td>5023.0</td>\n",
       "      <td>309.0</td>\n",
       "      <td>NaN</td>\n",
       "      <td>20160826</td>\n",
       "      <td>1472240181</td>\n",
       "      <td>NaN</td>\n",
       "      <td>NaN</td>\n",
       "      <td>19990000</td>\n",
       "      <td>NaN</td>\n",
       "      <td>Google Zipper-front Sports Bag</td>\n",
       "      <td>NaN</td>\n",
       "    </tr>\n",
       "  </tbody>\n",
       "</table>\n",
       "</div>"
      ],
      "text/plain": [
       "            fullVisitorId channelGrouping    country  \\\n",
       "2191  8076486872734382011  Organic Search     Canada   \n",
       "8225  7344519175727343086  Organic Search  Venezuela   \n",
       "\n",
       "                               city  totalTransactionRevenue  transactions  \\\n",
       "2191  not available in demo dataset             2.447870e+09           1.0   \n",
       "8225  not available in demo dataset             5.051400e+08           3.0   \n",
       "\n",
       "      timeOnSite  pageviews  sessionQualityDim      date     visitId  \\\n",
       "2191      1772.0      115.0                NaN  20161002  1475427697   \n",
       "8225      5023.0      309.0                NaN  20160826  1472240181   \n",
       "\n",
       "      productRefundAmount  productQuantity  productPrice  productRevenue  \\\n",
       "2191                  NaN              NaN       6990000             NaN   \n",
       "8225                  NaN              NaN      19990000             NaN   \n",
       "\n",
       "                       v2ProductName currencyCode  \n",
       "2191          Google Pet Feeding Mat          NaN  \n",
       "8225  Google Zipper-front Sports Bag          NaN  "
      ]
     },
     "execution_count": 5,
     "metadata": {},
     "output_type": "execute_result"
    }
   ],
   "source": [
    "# Observe the rows where the value for 'currencyCode' is not 'USD',\n",
    "# the 'country' column is not US,\n",
    "# but there are values for 'totalTransactionRevenue'.\n",
    "df[(df['currencyCode'] != 'USD') & (df['country'] != 'United States') & (df['totalTransactionRevenue'].notnull())]"
   ]
  },
  {
   "cell_type": "markdown",
   "id": "33d776e0-6817-42b6-ace6-8bba5705a5ea",
   "metadata": {},
   "source": [
    "This time, there are only 2 rows. We don't know the currency used in those 2 transactions. But, it is common to use US dollars for transactions in those country. So, we can keep these rows and throw away the rows that don't have values in `totalTransactionRevenue` column."
   ]
  },
  {
   "cell_type": "code",
   "execution_count": 9,
   "id": "4cf614c6-8fc0-4918-904e-195eb4014686",
   "metadata": {},
   "outputs": [],
   "source": [
    "df = df[~((df['currencyCode'] != 'USD') & \n",
    "          (df['country'] != 'United States') &\n",
    "          (df['totalTransactionRevenue'].isnull()))].reset_index(drop=True)"
   ]
  },
  {
   "cell_type": "code",
   "execution_count": 10,
   "id": "6dabf171-e49e-4bf0-a793-b697ff3da742",
   "metadata": {},
   "outputs": [
    {
     "name": "stdout",
     "output_type": "stream",
     "text": [
      "<class 'pandas.core.frame.DataFrame'>\n",
      "RangeIndex: 9606 entries, 0 to 9605\n",
      "Data columns (total 17 columns):\n",
      " #   Column                   Non-Null Count  Dtype  \n",
      "---  ------                   --------------  -----  \n",
      " 0   fullVisitorId            9606 non-null   uint64 \n",
      " 1   channelGrouping          9606 non-null   object \n",
      " 2   country                  9606 non-null   object \n",
      " 3   city                     9606 non-null   object \n",
      " 4   totalTransactionRevenue  619 non-null    float64\n",
      " 5   transactions             628 non-null    float64\n",
      " 6   timeOnSite               9606 non-null   float64\n",
      " 7   pageviews                9606 non-null   float64\n",
      " 8   sessionQualityDim        19 non-null     float64\n",
      " 9   date                     9606 non-null   int64  \n",
      " 10  visitId                  9606 non-null   int64  \n",
      " 11  productRefundAmount      0 non-null      float64\n",
      " 12  productQuantity          45 non-null     float64\n",
      " 13  productPrice             9606 non-null   int64  \n",
      " 14  productRevenue           0 non-null      float64\n",
      " 15  v2ProductName            9606 non-null   object \n",
      " 16  currencyCode             9326 non-null   object \n",
      "dtypes: float64(8), int64(3), object(5), uint64(1)\n",
      "memory usage: 1.2+ MB\n"
     ]
    }
   ],
   "source": [
    "# Check again the information details of the dataset\n",
    "df.info()"
   ]
  },
  {
   "cell_type": "markdown",
   "id": "0353298b-b18c-4987-b552-91b3aa034b9b",
   "metadata": {},
   "source": [
    "Now, we can safely throw away the `currencyCode` column."
   ]
  },
  {
   "cell_type": "code",
   "execution_count": 11,
   "id": "f901385e-f1e0-4525-bc00-e40cea334f2b",
   "metadata": {},
   "outputs": [],
   "source": [
    "df = df.drop(columns=['currencyCode'])"
   ]
  },
  {
   "cell_type": "markdown",
   "id": "3997b9e5-07ca-4b37-9409-26c2c8b7fefe",
   "metadata": {},
   "source": [
    "<b>The `totalTransactionRevenue` and `productPrice` was in micro currency unit. That means, whole column should be divided by a million.</b>"
   ]
  },
  {
   "cell_type": "code",
   "execution_count": 12,
   "id": "50d1b898-8eb8-45a9-a88b-b393cb3c7961",
   "metadata": {},
   "outputs": [],
   "source": [
    "df['totalTransactionRevenue'] = df['totalTransactionRevenue'] / 1e6\n",
    "df['productPrice'] = df['productPrice'] / 1e6"
   ]
  },
  {
   "cell_type": "code",
   "execution_count": 14,
   "id": "20fbf0d5-b9a5-469b-b009-74867603b963",
   "metadata": {},
   "outputs": [],
   "source": [
    "df.sort_values(by=['v2ProductName'], kind='mergesort').to_csv(os.path.join(os.getcwd(), 'test.csv'))"
   ]
  },
  {
   "cell_type": "markdown",
   "id": "2f755b79-2d9b-44ea-8ea6-551fa342f069",
   "metadata": {},
   "source": [
    "**`productRevenue` is equal to the `productQuantity` times `productPrice`.**"
   ]
  },
  {
   "cell_type": "code",
   "execution_count": null,
   "id": "e678a91c-72ca-4b6f-8db5-133c2fb640c5",
   "metadata": {},
   "outputs": [],
   "source": [
    "df['productRevenue'] = df['productQuantity'] * df['productPrice']"
   ]
  },
  {
   "cell_type": "markdown",
   "id": "b87dce1e-194d-4cfd-8249-3640253840e4",
   "metadata": {},
   "source": [
    "**`totalTransactionRevenue` is the total amount of money earned from sales, excluding refunds. Thus, we can compute `productRefundsAmount` as difference between `totalTransactionRevenue` and `productRevenue`.**"
   ]
  },
  {
   "cell_type": "code",
   "execution_count": null,
   "id": "7a297310-b6c6-4b93-be75-2d0bcee527d0",
   "metadata": {},
   "outputs": [],
   "source": [
    "df['productRefundAmount'] = df['productRevenue'] - df['totalTransactionRevenue']"
   ]
  },
  {
   "cell_type": "code",
   "execution_count": null,
   "id": "3bdb938c-7783-4dc0-999f-081867ae75d4",
   "metadata": {},
   "outputs": [],
   "source": []
  }
 ],
 "metadata": {
  "kernelspec": {
   "display_name": "Python 3 (ipykernel)",
   "language": "python",
   "name": "python3"
  },
  "language_info": {
   "codemirror_mode": {
    "name": "ipython",
    "version": 3
   },
   "file_extension": ".py",
   "mimetype": "text/x-python",
   "name": "python",
   "nbconvert_exporter": "python",
   "pygments_lexer": "ipython3",
   "version": "3.11.9"
  }
 },
 "nbformat": 4,
 "nbformat_minor": 5
}
